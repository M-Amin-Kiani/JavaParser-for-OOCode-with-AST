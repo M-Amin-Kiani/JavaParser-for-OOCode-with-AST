{
  "cells": [
    {
      "cell_type": "code",
      "execution_count": 7,
      "metadata": {
        "colab": {
          "base_uri": "https://localhost:8080/"
        },
        "id": "7xYApbSxlIBW",
        "outputId": "f15f5a9f-a4f6-46a8-8c6d-3ab64a8dc05b"
      },
      "outputs": [
        {
          "name": "stdout",
          "output_type": "stream",
          "text": [
            "Collecting cohere\n",
            "  Downloading cohere-5.13.8-py3-none-any.whl.metadata (3.5 kB)\n",
            "Collecting fastavro<2.0.0,>=1.9.4 (from cohere)\n",
            "  Downloading fastavro-1.10.0-cp311-cp311-manylinux_2_17_x86_64.manylinux2014_x86_64.whl.metadata (5.5 kB)\n",
            "Requirement already satisfied: httpx>=0.21.2 in /usr/local/lib/python3.11/dist-packages (from cohere) (0.28.1)\n",
            "Collecting httpx-sse==0.4.0 (from cohere)\n",
            "  Downloading httpx_sse-0.4.0-py3-none-any.whl.metadata (9.0 kB)\n",
            "Collecting parameterized<0.10.0,>=0.9.0 (from cohere)\n",
            "  Downloading parameterized-0.9.0-py2.py3-none-any.whl.metadata (18 kB)\n",
            "Requirement already satisfied: pydantic>=1.9.2 in /usr/local/lib/python3.11/dist-packages (from cohere) (2.10.5)\n",
            "Requirement already satisfied: pydantic-core<3.0.0,>=2.18.2 in /usr/local/lib/python3.11/dist-packages (from cohere) (2.27.2)\n",
            "Requirement already satisfied: requests<3.0.0,>=2.0.0 in /usr/local/lib/python3.11/dist-packages (from cohere) (2.32.3)\n",
            "Requirement already satisfied: tokenizers<1,>=0.15 in /usr/local/lib/python3.11/dist-packages (from cohere) (0.21.0)\n",
            "Collecting types-requests<3.0.0,>=2.0.0 (from cohere)\n",
            "  Downloading types_requests-2.32.0.20241016-py3-none-any.whl.metadata (1.9 kB)\n",
            "Requirement already satisfied: typing_extensions>=4.0.0 in /usr/local/lib/python3.11/dist-packages (from cohere) (4.12.2)\n",
            "Requirement already satisfied: anyio in /usr/local/lib/python3.11/dist-packages (from httpx>=0.21.2->cohere) (3.7.1)\n",
            "Requirement already satisfied: certifi in /usr/local/lib/python3.11/dist-packages (from httpx>=0.21.2->cohere) (2024.12.14)\n",
            "Requirement already satisfied: httpcore==1.* in /usr/local/lib/python3.11/dist-packages (from httpx>=0.21.2->cohere) (1.0.7)\n",
            "Requirement already satisfied: idna in /usr/local/lib/python3.11/dist-packages (from httpx>=0.21.2->cohere) (3.10)\n",
            "Requirement already satisfied: h11<0.15,>=0.13 in /usr/local/lib/python3.11/dist-packages (from httpcore==1.*->httpx>=0.21.2->cohere) (0.14.0)\n",
            "Requirement already satisfied: annotated-types>=0.6.0 in /usr/local/lib/python3.11/dist-packages (from pydantic>=1.9.2->cohere) (0.7.0)\n",
            "Requirement already satisfied: charset-normalizer<4,>=2 in /usr/local/lib/python3.11/dist-packages (from requests<3.0.0,>=2.0.0->cohere) (3.4.1)\n",
            "Requirement already satisfied: urllib3<3,>=1.21.1 in /usr/local/lib/python3.11/dist-packages (from requests<3.0.0,>=2.0.0->cohere) (2.3.0)\n",
            "Requirement already satisfied: huggingface-hub<1.0,>=0.16.4 in /usr/local/lib/python3.11/dist-packages (from tokenizers<1,>=0.15->cohere) (0.27.1)\n",
            "Requirement already satisfied: filelock in /usr/local/lib/python3.11/dist-packages (from huggingface-hub<1.0,>=0.16.4->tokenizers<1,>=0.15->cohere) (3.16.1)\n",
            "Requirement already satisfied: fsspec>=2023.5.0 in /usr/local/lib/python3.11/dist-packages (from huggingface-hub<1.0,>=0.16.4->tokenizers<1,>=0.15->cohere) (2024.10.0)\n",
            "Requirement already satisfied: packaging>=20.9 in /usr/local/lib/python3.11/dist-packages (from huggingface-hub<1.0,>=0.16.4->tokenizers<1,>=0.15->cohere) (24.2)\n",
            "Requirement already satisfied: pyyaml>=5.1 in /usr/local/lib/python3.11/dist-packages (from huggingface-hub<1.0,>=0.16.4->tokenizers<1,>=0.15->cohere) (6.0.2)\n",
            "Requirement already satisfied: tqdm>=4.42.1 in /usr/local/lib/python3.11/dist-packages (from huggingface-hub<1.0,>=0.16.4->tokenizers<1,>=0.15->cohere) (4.67.1)\n",
            "Requirement already satisfied: sniffio>=1.1 in /usr/local/lib/python3.11/dist-packages (from anyio->httpx>=0.21.2->cohere) (1.3.1)\n",
            "Downloading cohere-5.13.8-py3-none-any.whl (251 kB)\n",
            "\u001b[2K   \u001b[90m━━━━━━━━━━━━━━━━━━━━━━━━━━━━━━━━━━━━━━━━\u001b[0m \u001b[32m251.7/251.7 kB\u001b[0m \u001b[31m11.2 MB/s\u001b[0m eta \u001b[36m0:00:00\u001b[0m\n",
            "\u001b[?25hDownloading httpx_sse-0.4.0-py3-none-any.whl (7.8 kB)\n",
            "Downloading fastavro-1.10.0-cp311-cp311-manylinux_2_17_x86_64.manylinux2014_x86_64.whl (3.3 MB)\n",
            "\u001b[2K   \u001b[90m━━━━━━━━━━━━━━━━━━━━━━━━━━━━━━━━━━━━━━━━\u001b[0m \u001b[32m3.3/3.3 MB\u001b[0m \u001b[31m66.5 MB/s\u001b[0m eta \u001b[36m0:00:00\u001b[0m\n",
            "\u001b[?25hDownloading parameterized-0.9.0-py2.py3-none-any.whl (20 kB)\n",
            "Downloading types_requests-2.32.0.20241016-py3-none-any.whl (15 kB)\n",
            "Installing collected packages: types-requests, parameterized, httpx-sse, fastavro, cohere\n",
            "Successfully installed cohere-5.13.8 fastavro-1.10.0 httpx-sse-0.4.0 parameterized-0.9.0 types-requests-2.32.0.20241016\n"
          ]
        }
      ],
      "source": [
        "!pip install cohere"
      ]
    },
    {
      "cell_type": "code",
      "execution_count": 19,
      "metadata": {
        "colab": {
          "base_uri": "https://localhost:8080/"
        },
        "id": "eZjlKH0ulEsf",
        "outputId": "43367728-e8e0-47d2-e4d5-8187e916c9e6"
      },
      "outputs": [
        {
          "name": "stdout",
          "output_type": "stream",
          "text": [
            "لطفاً مسیر فایل جاوا را وارد کنید:\n",
            "\n",
            "در حال تحلیل کد...\n",
            "\n",
            "پاسخ کامل مدل:\n",
            "Here are the suggested mutation operators for the given Java code, along with explanations for their suitability:\n",
            "1. **IOD (Overriding Method Deletion)**: This operator is suitable because the `Car` and `Bike` classes override the `move()` method from the `Vehicle` class. Deleting this overriding method will help test the behavior of the program when the overridden method is removed, ensuring that the correct method is called in the inheritance hierarchy.\n",
            "2. **IOP (Overridden Method Calling Position Change)**: Changing the calling position of the overridden method is relevant because the `Car` and `Bike` classes override the `move()` method. This operator will help verify if the program behaves correctly when the overridden method is called at a different position in the class hierarchy.\n",
            "3. **ISI (Super Keyword Insertion)**: Inserting the `super` keyword is applicable in the `Car` and `Bike` constructors, where they call the superclass constructor using `super()`. This operator will test the initialization process and ensure that the superclass constructor is invoked correctly.\n",
            "4. **JSI (Static Modifier Insertion)**: The `vehicleCount` variable in the `Vehicle` class is a static member. Inserting the `static` modifier for this variable will help test the behavior related to static members and their accessibility.\n",
            "5. **JTD (this Keyword Deletion)**: In the `Car` and `Bike` constructors, the `this` keyword is used to call the superclass constructor. Deleting the `this` keyword will help test the constructor's behavior and ensure proper object initialization.\n",
            "6. **JID (Member Variable Initialization Deletion)**: The `brand`, `speed`, and `fuelCapacity` variables in the `Vehicle` class are initialized in the constructor. Removing their initialization will help test the default values and the behavior of the program when these variables are not explicitly initialized.\n",
            "\n",
            "These operators are chosen to specifically target the inheritance, encapsulation, and polymorphism aspects of the code, as well as some Java-specific features like static members and keyword usage. By applying these operators, you can effectively test the code's behavior and ensure that it adheres to the principles of object-oriented programming.\n",
            "پیشنهادها با موفقیت ذخیره شد در: mutation_suggestions.txt\n",
            "اپراتورهای انتخاب شده: JSI, JID, IOP, IOD\n"
          ]
        }
      ],
      "source": [
        "import cohere\n",
        "import random\n",
        "\n",
        "# تنظیم کلید API برای Cohere\n",
        "co = cohere.Client('sky')  # کلید API خود را قرار دهید\n",
        "\n",
        "\n",
        "def read_java_file(file_path):\n",
        "    \"\"\"خواندن محتوای فایل جاوا\"\"\"\n",
        "    try:\n",
        "        with open(file_path, \"r\", encoding=\"utf-8\") as file:\n",
        "            return file.read()\n",
        "    except FileNotFoundError:\n",
        "        print(\"فایل یافت نشد!\")\n",
        "        return None\n",
        "\n",
        "def suggest_mutation_operators(java_code):\n",
        "    \"\"\"پیشنهاد اپراتورهای میوتیشن برای کد جاوا\"\"\"\n",
        "    prompt = f\"\"\"\n",
        "    You are an expert in Object Oriented Mutation Testing (Encapsulation, Inheritance, Polymorphism, Java-Specific). Analyze the following Java code and suggest appropriate mutation operators\n",
        "    that could be applied to test the code effectively and they are the best choices. Suggest 4-6 operators from the following list only: AMC(Access Modifier Change), IHI(Hiding Variable Insertion), IHD(Hiding Variable Deletion), IOD(Overriding Method Deletion), IOP(Overridden Method Calling Position Change), IOR(Overridden Method Rename), ISI(Super Keyword Insertion), ISD(Super Keyword Deletion), IPC(Explicit Parent Constructor Deletion), PNC(new Method Call With Child Class Type), PMD(Member Variable Declaration with Parent Class Type), PPD(Parameter Variable Declaration with Child Class Type), PCI(Type Cast Operator Insertion), PCD(Type Cast Operator Deletion), PCC(Cast Type Change), PRV(Reference Assignment with Other Compatible Type), OMR(Overloading Method Contents Replace), OMD(Overloading Method Deletion), OAC(Arguments of Overloading Method Call Change), JTI(this Keyword Insertion), JTD(this Keyword Deletion), JSI(Static Modifier Insertion), JSD(Static Modifier Deletion), JID(Member Variable Initialization Deletion), JDC( Java-supported Default Constructor Deletion). Explain why those operators are suitable:\n",
        "\n",
        "java\n",
        "    {java_code}\n",
        "\n",
        "    \"\"\"\n",
        "    try:\n",
        "        # استفاده از API Cohere برای تولید پاسخ\n",
        "        response = co.generate(\n",
        "            model='command-xlarge-nightly',  # مدل Cohere\n",
        "            prompt=prompt,\n",
        "            max_tokens=500,  # تعداد کلمات خروجی\n",
        "            temperature=0.5  # کنترل خلاقیت پاسخ\n",
        "        )\n",
        "        return response.generations[0].text.strip()\n",
        "    except Exception as e:\n",
        "        return f\"An error occurred while generating suggestions: {e}\"\n",
        "\n",
        "def extract_operators(suggestions):\n",
        "    \"\"\"استخراج اپراتورهای مناسب از پاسخ\"\"\"\n",
        "    valid_operators = [\n",
        "        \"AMC\", \"IHI\", \"IHD\", \"IOD\", \"IOP\", \"IOR\", \"ISI\", \"ISD\", \"IPC\",\n",
        "        \"PNC\", \"PMD\", \"PPD\", \"PCI\", \"PCD\", \"PCC\", \"PRV\", \"OMR\", \"OMD\",\n",
        "        \"OAC\", \"JTI\", \"JTD\", \"JSI\", \"JSD\", \"JID\", \"JDC\"\n",
        "    ]\n",
        "    operators = []\n",
        "    for op in valid_operators:\n",
        "        if op in suggestions:\n",
        "            operators.append(op)\n",
        "    return operators\n",
        "\n",
        "def select_random_operators(operators, count=4):\n",
        "    \"\"\"انتخاب تصادفی تعدادی اپراتور از لیست\"\"\"\n",
        "    return random.sample(operators, min(count, len(operators)))\n",
        "\n",
        "def save_to_file(output_path, operators):\n",
        "    \"\"\"ذخیره پیشنهادها در فایل متنی\"\"\"\n",
        "    try:\n",
        "        with open(output_path, \"w\", encoding=\"utf-8\") as file:\n",
        "            file.write(\", \".join(operators))\n",
        "        print(f\"پیشنهادها با موفقیت ذخیره شد در: {output_path}\")\n",
        "    except Exception as e:\n",
        "        print(f\"خطا در ذخیره فایل: {e}\")\n",
        "\n",
        "def main():\n",
        "    print(\"لطفاً مسیر فایل جاوا را وارد کنید:\")\n",
        "    # file_path = input().strip()  # مسیر فایل جاوا از کاربر گرفته شود\n",
        "    file_path = \"/content/code.java\"\n",
        "    output_path = \"mutation_suggestions.txt\"  # مسیر ذخیره پیشنهادها\n",
        "\n",
        "    java_code = read_java_file(file_path)\n",
        "    if java_code:\n",
        "        print(\"\\nدر حال تحلیل کد...\\n\")\n",
        "        suggestions = suggest_mutation_operators(java_code)\n",
        "        if suggestions:\n",
        "            print(\"پاسخ کامل مدل:\")\n",
        "            print(suggestions)  # چاپ پاسخ کامل مدل\n",
        "            operators = extract_operators(suggestions)\n",
        "            if operators:\n",
        "                selected_operators = select_random_operators(operators)  # انتخاب اپراتورهای تصادفی\n",
        "                save_to_file(output_path, selected_operators)\n",
        "                print(\"اپراتورهای انتخاب شده:\", \", \".join(selected_operators))\n",
        "            else:\n",
        "                print(\"هیچ اپراتور مناسبی پیشنهاد نشد.\")\n",
        "        else:\n",
        "            print(\"پاسخی از مدل دریافت نشد.\")\n",
        "\n",
        "if __name__ == \"__main__\":\n",
        "    main()\n"
      ]
    }
  ],
  "metadata": {
    "accelerator": "GPU",
    "colab": {
      "gpuType": "T4",
      "provenance": []
    },
    "kernelspec": {
      "display_name": "Python 3",
      "name": "python3"
    },
    "language_info": {
      "name": "python"
    }
  },
  "nbformat": 4,
  "nbformat_minor": 0
}
